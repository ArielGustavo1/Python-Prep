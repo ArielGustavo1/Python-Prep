{
 "cells": [
  {
   "attachments": {},
   "cell_type": "markdown",
   "metadata": {},
   "source": [
    "## Flujos de Control"
   ]
  },
  {
   "attachments": {},
   "cell_type": "markdown",
   "metadata": {},
   "source": [
    "1) Crear una variable que contenga un elemento del conjunto de números enteros y luego imprimir por pantalla si es mayor o menor a cero"
   ]
  },
  {
   "cell_type": "code",
   "execution_count": 1,
   "metadata": {},
   "outputs": [
    {
     "name": "stdout",
     "output_type": "stream",
     "text": [
      "la variable es mayor a cero\n"
     ]
    }
   ],
   "source": [
    "y=33\n",
    "if(y<0):\n",
    "    print('la variable es menor a cero')\n",
    "elif(y>0):\n",
    "    print('la variable es mayor a cero')\n",
    "else:\n",
    "    print('la variable es igual a cero')    "
   ]
  },
  {
   "attachments": {},
   "cell_type": "markdown",
   "metadata": {},
   "source": [
    "2) Crear dos variables y un condicional que informe si son del mismo tipo de dato"
   ]
  },
  {
   "cell_type": "code",
   "execution_count": 2,
   "metadata": {},
   "outputs": [
    {
     "name": "stdout",
     "output_type": "stream",
     "text": [
      "No son del mismo tipo\n"
     ]
    }
   ],
   "source": [
    "x=5\n",
    "z=8.5\n",
    "if(type(x)==type(z)):\n",
    "    print('Son del mismo tipo')\n",
    "else:\n",
    "    print('No son del mismo tipo')"
   ]
  },
  {
   "attachments": {},
   "cell_type": "markdown",
   "metadata": {},
   "source": [
    "3) Para los valores enteros del 1 al 20, imprimir por pantalla si es par o impar"
   ]
  },
  {
   "cell_type": "code",
   "execution_count": 3,
   "metadata": {},
   "outputs": [
    {
     "name": "stdout",
     "output_type": "stream",
     "text": [
      "1 Es impar\n",
      "2 Es par\n",
      "3 Es impar\n",
      "4 Es par\n",
      "5 Es impar\n",
      "6 Es par\n",
      "7 Es impar\n",
      "8 Es par\n",
      "9 Es impar\n",
      "10 Es par\n",
      "11 Es impar\n",
      "12 Es par\n",
      "13 Es impar\n",
      "14 Es par\n",
      "15 Es impar\n",
      "16 Es par\n",
      "17 Es impar\n",
      "18 Es par\n",
      "19 Es impar\n",
      "20 Es par\n"
     ]
    }
   ],
   "source": [
    "for t in range(1,21):\n",
    "    if(t%2==0):\n",
    "        print(str(t),'Es par')\n",
    "    else:\n",
    "        print(str(t),'Es impar')\n"
   ]
  },
  {
   "attachments": {},
   "cell_type": "markdown",
   "metadata": {},
   "source": [
    "4) En un ciclo for mostrar para los valores entre 0 y 5 el resultado de elevarlo a la potencia igual a 3"
   ]
  },
  {
   "cell_type": "code",
   "execution_count": 4,
   "metadata": {},
   "outputs": [
    {
     "name": "stdout",
     "output_type": "stream",
     "text": [
      "0  elevado al cubo es:  0\n",
      "1  elevado al cubo es:  1\n",
      "2  elevado al cubo es:  8\n",
      "3  elevado al cubo es:  27\n",
      "4  elevado al cubo es:  64\n",
      "5  elevado al cubo es:  125\n"
     ]
    }
   ],
   "source": [
    "for t in range(0,6):\n",
    "    print(str(t),' elevado al cubo es: ',t**3)\n"
   ]
  },
  {
   "attachments": {},
   "cell_type": "markdown",
   "metadata": {},
   "source": [
    "5) Crear una variable que contenga un número entero y realizar un ciclo for la misma cantidad de ciclos"
   ]
  },
  {
   "cell_type": "code",
   "execution_count": 5,
   "metadata": {},
   "outputs": [
    {
     "name": "stdout",
     "output_type": "stream",
     "text": [
      "La iteración vale 3\n",
      "La iteración vale 3\n",
      "La iteración vale 3\n"
     ]
    }
   ],
   "source": [
    "j=3\n",
    "for t in range (0,j):\n",
    "    print('La iteración vale',str(j))"
   ]
  },
  {
   "attachments": {},
   "cell_type": "markdown",
   "metadata": {},
   "source": [
    "6) Utilizar un ciclo while para realizar el factorial de un número guardado en una variable, sólo si la variable contiene un número entero mayor a 0"
   ]
  },
  {
   "cell_type": "code",
   "execution_count": 6,
   "metadata": {},
   "outputs": [
    {
     "name": "stdout",
     "output_type": "stream",
     "text": [
      "El factorial es 24\n"
     ]
    }
   ],
   "source": [
    "n=4\n",
    "if(type(n)==int):\n",
    "    if(n>0):\n",
    "        f=n\n",
    "        while(n>2):\n",
    "            n=n-1\n",
    "            f=f*n\n",
    "        print('El factorial es', f)\n",
    "    else:\n",
    "        print('La variable no es mayor a cero')\n",
    "else:\n",
    "    print('La variable no es un entero')\n",
    "        "
   ]
  },
  {
   "attachments": {},
   "cell_type": "markdown",
   "metadata": {},
   "source": [
    "7) Crear un ciclo for dentro de un ciclo while"
   ]
  },
  {
   "cell_type": "code",
   "execution_count": 8,
   "metadata": {},
   "outputs": [
    {
     "name": "stdout",
     "output_type": "stream",
     "text": [
      "0\n",
      "1\n",
      "2\n",
      "3\n",
      "0\n",
      "1\n",
      "2\n",
      "3\n",
      "Fin\n"
     ]
    }
   ],
   "source": [
    "n=0\n",
    "while(n<4):\n",
    "    for t in range(0,4):\n",
    "        print(t)\n",
    "    n+=2\n",
    "print('Fin')\n"
   ]
  },
  {
   "attachments": {},
   "cell_type": "markdown",
   "metadata": {},
   "source": [
    "8) Crear un ciclo while dentro de un ciclo for"
   ]
  },
  {
   "cell_type": "code",
   "execution_count": 9,
   "metadata": {},
   "outputs": [
    {
     "name": "stdout",
     "output_type": "stream",
     "text": [
      "0\n",
      "1\n"
     ]
    }
   ],
   "source": [
    "n=0\n",
    "for t in range(0,4):\n",
    "    while(n<2):\n",
    "        print(n)\n",
    "        n+=1\n"
   ]
  },
  {
   "attachments": {},
   "cell_type": "markdown",
   "metadata": {},
   "source": [
    "9) Imprimir los números primos existentes entre 0 y 30"
   ]
  },
  {
   "cell_type": "code",
   "execution_count": 10,
   "metadata": {},
   "outputs": [
    {
     "name": "stdout",
     "output_type": "stream",
     "text": [
      "0 Es primo\n",
      "1 Es primo\n",
      "2 Es primo\n",
      "3 Es primo\n",
      "5 Es primo\n",
      "7 Es primo\n",
      "11 Es primo\n",
      "13 Es primo\n",
      "17 Es primo\n",
      "19 Es primo\n",
      "23 Es primo\n",
      "29 Es primo\n"
     ]
    }
   ],
   "source": [
    "a=0\n",
    "for t in range(0,31):\n",
    "    for j in range(2,16):\n",
    "        if(j!=t):\n",
    "            if(t%j==0):\n",
    "                a+=1\n",
    "    if(a==0 or t==0 or t==1 or t==2):\n",
    "        print(str(t),'Es primo')\n",
    "        a=0\n",
    "    else:\n",
    "        a=0\n",
    "            \n",
    "            "
   ]
  },
  {
   "attachments": {},
   "cell_type": "markdown",
   "metadata": {},
   "source": [
    "10) ¿Se puede mejorar el proceso del punto 9? Utilizar las sentencias break y/ó continue para tal fin"
   ]
  },
  {
   "cell_type": "code",
   "execution_count": 11,
   "metadata": {},
   "outputs": [
    {
     "name": "stdout",
     "output_type": "stream",
     "text": [
      "0 Es primo\n",
      "1 Es primo\n",
      "2 Es primo\n",
      "3 Es primo\n",
      "5 Es primo\n",
      "7 Es primo\n",
      "11 Es primo\n",
      "13 Es primo\n",
      "17 Es primo\n",
      "19 Es primo\n",
      "23 Es primo\n",
      "29 Es primo\n"
     ]
    }
   ],
   "source": [
    "a=0\n",
    "for t in range(0,31):\n",
    "    for j in range(2,16):\n",
    "        if(j>t):\n",
    "            break\n",
    "        if(j!=t):\n",
    "            if(t%j==0):\n",
    "                a+=1\n",
    "    if(a==0 or t==0 or t==1 or t==2):\n",
    "        print(str(t),'Es primo')\n",
    "        a=0\n",
    "    else:\n",
    "        a=0\n",
    "            "
   ]
  },
  {
   "attachments": {},
   "cell_type": "markdown",
   "metadata": {},
   "source": [
    "11) En los puntos 9 y 10, se diseño un código que encuentra números primos y además se lo optimizó. ¿Es posible saber en qué medida se optimizó?"
   ]
  },
  {
   "cell_type": "code",
   "execution_count": 12,
   "metadata": {},
   "outputs": [
    {
     "name": "stdout",
     "output_type": "stream",
     "text": [
      "0 Es primo\n",
      "1 Es primo\n",
      "2 Es primo\n",
      "3 Es primo\n",
      "5 Es primo\n",
      "7 Es primo\n",
      "11 Es primo\n",
      "13 Es primo\n",
      "17 Es primo\n",
      "19 Es primo\n",
      "23 Es primo\n",
      "29 Es primo\n",
      "Se podrían haber evitado  119  ciclos\n"
     ]
    }
   ],
   "source": [
    "a=0\n",
    "ciclos_sin_break=0\n",
    "for t in range(0,31):\n",
    "    for j in range(2,16):\n",
    "        if(j>t):\n",
    "            ciclos_sin_break +=1\n",
    "        if(j!=t):\n",
    "            if(t%j==0):\n",
    "                a+=1\n",
    "    if(a==0 or t==0 or t==1 or t==2):\n",
    "        print(str(t),'Es primo')\n",
    "        a=0\n",
    "    else:\n",
    "        a=0\n",
    "print('Se podrían haber evitado ', ciclos_sin_break,' ciclos')    "
   ]
  },
  {
   "attachments": {},
   "cell_type": "markdown",
   "metadata": {},
   "source": [
    "12) Aplicando continue, armar un ciclo while que solo imprima los valores divisibles por 12, dentro del rango de números de 100 a 300"
   ]
  },
  {
   "cell_type": "code",
   "execution_count": 15,
   "metadata": {},
   "outputs": [
    {
     "name": "stdout",
     "output_type": "stream",
     "text": [
      "108 Es divisible por doce\n",
      "120 Es divisible por doce\n",
      "132 Es divisible por doce\n",
      "144 Es divisible por doce\n",
      "156 Es divisible por doce\n",
      "168 Es divisible por doce\n",
      "180 Es divisible por doce\n",
      "192 Es divisible por doce\n",
      "204 Es divisible por doce\n",
      "216 Es divisible por doce\n",
      "228 Es divisible por doce\n",
      "240 Es divisible por doce\n",
      "252 Es divisible por doce\n",
      "264 Es divisible por doce\n",
      "276 Es divisible por doce\n",
      "288 Es divisible por doce\n",
      "300 Es divisible por doce\n"
     ]
    }
   ],
   "source": [
    "t=99\n",
    "while(t<301):\n",
    "    t+=1\n",
    "    if(t%12!=0):\n",
    "        continue\n",
    "    else:\n",
    "        print(str(t),'Es divisible por doce')\n",
    "\n",
    "\n"
   ]
  },
  {
   "attachments": {},
   "cell_type": "markdown",
   "metadata": {},
   "source": [
    "13) Utilizar la función **input()** que permite hacer ingresos por teclado, para encontrar números primos y dar la opción al usario de buscar el siguiente"
   ]
  },
  {
   "cell_type": "code",
   "execution_count": 3,
   "metadata": {},
   "outputs": [],
   "source": [
    "n = 1\n",
    "sigue = 1\n",
    "primo = True\n",
    "while (sigue > 100):\n",
    "    sigue+=1\n",
    "    for div in range(2, n):\n",
    "        if (n % div == 0):\n",
    "            primo = False\n",
    "            break\n",
    "    if (primo):\n",
    "        print(n)\n",
    "        print('¿Desea encontrar el siguiente número primo?')\n",
    "        if (input() != '1'):\n",
    "            print('Se finaliza el proceso')\n",
    "            break\n",
    "    else:\n",
    "        primo = True\n",
    "    n += 1"
   ]
  },
  {
   "attachments": {},
   "cell_type": "markdown",
   "metadata": {},
   "source": [
    "14) Crear un ciclo while que encuentre dentro del rango de 100 a 300 el primer número divisible por 3 y además múltiplo de 6"
   ]
  },
  {
   "cell_type": "code",
   "execution_count": 5,
   "metadata": {},
   "outputs": [
    {
     "name": "stdout",
     "output_type": "stream",
     "text": [
      "El numero  102  es el primer multimplo de 3 y 6\n"
     ]
    }
   ],
   "source": [
    "t=99\n",
    "while(t<=300):\n",
    "    t+=1\n",
    "    if(t%3==0 and t%6 ==0):\n",
    "        print('El numero ',str(t),' es el primer multimplo de 3 y 6')\n",
    "        t=301\n"
   ]
  }
 ],
 "metadata": {
  "interpreter": {
   "hash": "c85384e4cb51c8b72350f3a8712cc8351fdc3955e32a27f9b60c6242ab125f01"
  },
  "kernelspec": {
   "display_name": "Python 3 (ipykernel)",
   "language": "python",
   "name": "python3"
  },
  "language_info": {
   "codemirror_mode": {
    "name": "ipython",
    "version": 3
   },
   "file_extension": ".py",
   "mimetype": "text/x-python",
   "name": "python",
   "nbconvert_exporter": "python",
   "pygments_lexer": "ipython3",
   "version": "3.12.2"
  }
 },
 "nbformat": 4,
 "nbformat_minor": 4
}
