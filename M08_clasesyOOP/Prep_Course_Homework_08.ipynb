{
 "cells": [
  {
   "attachments": {},
   "cell_type": "markdown",
   "metadata": {},
   "source": [
    "## Clases y Programación Orientada a Objetos"
   ]
  },
  {
   "attachments": {},
   "cell_type": "markdown",
   "metadata": {},
   "source": [
    "1) Crear la clase vehículo que contenga los atributos:<br>\n",
    "Color<br>\n",
    "Si es moto, auto, camioneta ó camión<br>\n",
    "Cilindrada del motor"
   ]
  },
  {
   "cell_type": "code",
   "execution_count": 1,
   "metadata": {},
   "outputs": [],
   "source": [
    "class Vehiculo:\n",
    "    def __init__(self,colo,tipo,cilindrada):\n",
    "        self.color=color\n",
    "        self.tipo=tipo\n",
    "        self.cilindrada=cilindrada\n"
   ]
  },
  {
   "attachments": {},
   "cell_type": "markdown",
   "metadata": {},
   "source": [
    "2) A la clase Vehiculo creada en el punto 1, agregar los siguientes métodos:<br>\n",
    "Acelerar<br>\n",
    "Frenar<br>\n",
    "Doblar<br>"
   ]
  },
  {
   "cell_type": "code",
   "execution_count": 6,
   "metadata": {},
   "outputs": [],
   "source": [
    "class Vehiculo:\n",
    "    def __init__(self,color,tipo,cilindrada):\n",
    "        self.color=color\n",
    "        self.tipo=tipo\n",
    "        self.cilindrada=cilindrada\n",
    "        self.velocidad=0\n",
    "        self.direccion=0\n",
    "    def acelerar(self,vel):\n",
    "        self.velocidad+=vel\n",
    "    def frenar(self,vel):\n",
    "        self.velocidad-=vel\n",
    "    def doblar(self,grados):\n",
    "        self.direccion+=grados"
   ]
  },
  {
   "attachments": {},
   "cell_type": "markdown",
   "metadata": {},
   "source": [
    "3) Instanciar 3 objetos de la clase vehículo y ejecutar sus métodos, probar luego el resultado"
   ]
  },
  {
   "cell_type": "code",
   "execution_count": 9,
   "metadata": {},
   "outputs": [
    {
     "name": "stdout",
     "output_type": "stream",
     "text": [
      "50   0\n",
      "0   90\n",
      "70   0\n"
     ]
    }
   ],
   "source": [
    "auto=Vehiculo('verde','auto',3.2)\n",
    "moto=Vehiculo('negro','moto',600)\n",
    "camioneta=Vehiculo('blanco','camioneta',5)\n",
    "\n",
    "auto.acelerar(50)\n",
    "print(auto.velocidad,' ',auto.direccion)\n",
    "camioneta.doblar(90)\n",
    "print(camioneta.velocidad,' ',camioneta.direccion)\n",
    "moto.acelerar(100)\n",
    "moto.frenar(30)\n",
    "print(moto.velocidad,' ',moto.direccion)"
   ]
  },
  {
   "attachments": {},
   "cell_type": "markdown",
   "metadata": {},
   "source": [
    "4) Agregar a la clase Vehiculo, un método que muestre su estado, es decir, a que velocidad se encuentra y su dirección. Y otro método que muestre color, tipo y cilindrada"
   ]
  },
  {
   "cell_type": "code",
   "execution_count": 10,
   "metadata": {},
   "outputs": [],
   "source": [
    "class Vehiculo:\n",
    "    def __init__(self,color,tipo,cilindrada):\n",
    "        self.color=color\n",
    "        self.tipo=tipo\n",
    "        self.cilindrada=cilindrada\n",
    "        self.velocidad=0\n",
    "        self.direccion=0\n",
    "    def acelerar(self,vel):\n",
    "        self.velocidad+=vel\n",
    "    def frenar(self,vel):\n",
    "        self.velocidad-=vel\n",
    "    def doblar(self,grados):\n",
    "        self.direccion+=grados\n",
    "\n",
    "    def mostrarEstado(self):\n",
    "        print('Velocidad: ',self.velocidad,' Direccion: ',self.direccion,' \\n',\n",
    "              'Tipo: ',self.tipo,' Color: ',self.color,' Cilindrada: ',self.cilindrada)"
   ]
  },
  {
   "cell_type": "code",
   "execution_count": 12,
   "metadata": {},
   "outputs": [
    {
     "name": "stdout",
     "output_type": "stream",
     "text": [
      "Velocidad:  0  Direccion:  0  \n",
      " Tipo:  automovil  Color:  azul  Cilindrada:  1.6\n"
     ]
    }
   ],
   "source": [
    "auto=Vehiculo('azul','automovil',1.6)\n",
    "auto.mostrarEstado()"
   ]
  },
  {
   "attachments": {},
   "cell_type": "markdown",
   "metadata": {},
   "source": [
    "5) Crear una clase que permita utilizar las funciones creadas en la práctica del módulo 7<br>\n",
    "Verificar Primo<br>\n",
    "Valor modal<br>\n",
    "Conversión grados<br>\n",
    "Factorial<br>"
   ]
  },
  {
   "cell_type": "code",
   "execution_count": 21,
   "metadata": {},
   "outputs": [],
   "source": [
    "class FuncionesVarias:\n",
    "    def __init__(self) -> None:\n",
    "        pass\n",
    "\n",
    "    def vereficaPrimo(self,n):\n",
    "        primo = True\n",
    "        for i in range(2,n):\n",
    "            if n%i==0:\n",
    "                primo= False\n",
    "                break\n",
    "        return primo\n",
    "\n",
    "    def extraePrimos(self,lista):\n",
    "        listaPrimo=[]\n",
    "        for e in lista:\n",
    "            if vereficaPrimo(e):\n",
    "                listaPrimo.append(e)\n",
    "        return listaPrimo\n",
    "\n",
    "    def repetido(self,lista):\n",
    "        indice=0\n",
    "        count1=0\n",
    "        count=0\n",
    "        elemento=0\n",
    "        for elem in lista:\n",
    "            for e in lista:\n",
    "                if elem==e:\n",
    "                    count+=1\n",
    "            if count>count1:\n",
    "                count1=count\n",
    "                elemento=elem\n",
    "                indice=lista.index(elemento)\n",
    "            count=0\n",
    "        return elemento, indice, count1\n",
    "\n",
    "    def conversionGrados(self,grados,tipoEntrada,tipoSalida):\n",
    "        if(tipoSalida==tipoEntrada):\n",
    "            return grados\n",
    "        if(tipoEntrada =='Farenheit'):\n",
    "            if(tipoSalida=='Celsius'):\n",
    "                return(grados*(9/5))+32\n",
    "            if(tipoSalida=='Kelvin'):\n",
    "                return grados+273.15\n",
    "        if(tipoEntrada == 'Kelvin'):\n",
    "            if(tipoSalida=='Celsius'):\n",
    "                return grados-273.15\n",
    "            if(tipoSalida=='Farenheit'):\n",
    "                return ((grados-273.15-32)*(5/9))\n",
    "        if(tipoEntrada=='Celsius'):\n",
    "            if(tipoSalida=='Kelvin'):\n",
    "                return grados+273.15\n",
    "            if(tipoSalida=='Farenheit'):\n",
    "                return (grados-32)*5/9\n",
    "        \n",
    "    \n",
    "    def pruebaGrados(self,lis1):\n",
    "        ckf=['Farenheit','Celsius','Kelvin']\n",
    "        for c in ckf:\n",
    "            for b in ckf:\n",
    "                for a in lis1:\n",
    "                    Grados=conversionGrados(a,b,c)\n",
    "                    print(Grados,\" \",c)\n",
    "        \n",
    "    def factorial(self,num):\n",
    "        if num<0 or type(num)!=int:\n",
    "            print('Error')\n",
    "            return\n",
    "        elif num<=1:\n",
    "            return 1\n",
    "        else: \n",
    "            f=num*self.factorial(num-1)\n",
    "            return f\n"
   ]
  },
  {
   "attachments": {},
   "cell_type": "markdown",
   "metadata": {},
   "source": [
    "6) Probar las funciones incorporadas en la clase del punto 5"
   ]
  },
  {
   "cell_type": "code",
   "execution_count": 22,
   "metadata": {},
   "outputs": [],
   "source": [
    "a=FuncionesVarias()\n"
   ]
  },
  {
   "cell_type": "code",
   "execution_count": 27,
   "metadata": {},
   "outputs": [
    {
     "data": {
      "text/plain": [
       "212.0"
      ]
     },
     "execution_count": 27,
     "metadata": {},
     "output_type": "execute_result"
    }
   ],
   "source": [
    "a.vereficaPrimo(7)\n",
    "a.factorial(5)\n",
    "a.conversionGrados(100,'Farenheit','Celsius')"
   ]
  },
  {
   "attachments": {},
   "cell_type": "markdown",
   "metadata": {},
   "source": [
    "7) Es necesario que la clase creada en el punto 5 contenga una lista, sobre la cual se apliquen las funciones incorporadas"
   ]
  },
  {
   "cell_type": "code",
   "execution_count": 69,
   "metadata": {},
   "outputs": [],
   "source": [
    "class FuncionesVarias:\n",
    "    def __init__(self,lista):\n",
    "        self.lista=lista\n",
    "\n",
    "    def vereficaPrimo(self,n):\n",
    "        primo = True\n",
    "        for i in range(2,n):\n",
    "            if n%i==0:\n",
    "                primo= False\n",
    "                break\n",
    "        return primo\n",
    "\n",
    "    def extraePrimos(self,lista):\n",
    "        listaPrimo=[]\n",
    "        for e in self.lista:\n",
    "            if self.vereficaPrimo(e):\n",
    "                listaPrimo.append(e)\n",
    "        return listaPrimo\n",
    "\n",
    "    def repetido(self,lista):\n",
    "        indice=0\n",
    "        count1=0\n",
    "        count=0\n",
    "        elemento=0\n",
    "        for elem in lista:\n",
    "            for e in lista:\n",
    "                if elem==e:\n",
    "                    count+=1\n",
    "            if count>count1:\n",
    "                count1=count\n",
    "                elemento=elem\n",
    "                indice=lista.index(elemento)\n",
    "            count=0\n",
    "        return elemento, indice, count1\n",
    "\n",
    "    def conversionGrados(self,grados,tipoEntrada,tipoSalida):\n",
    "        if(tipoSalida==tipoEntrada):\n",
    "            return grados\n",
    "        if(tipoEntrada =='Farenheit'):\n",
    "            if(tipoSalida=='Celsius'):\n",
    "                return(grados*(9/5))+32\n",
    "            if(tipoSalida=='Kelvin'):\n",
    "                return grados+273.15\n",
    "        if(tipoEntrada == 'Kelvin'):\n",
    "            if(tipoSalida=='Celsius'):\n",
    "                return grados-273.15\n",
    "            if(tipoSalida=='Farenheit'):\n",
    "                return ((grados-273.15-32)*(5/9))\n",
    "        if(tipoEntrada=='Celsius'):\n",
    "            if(tipoSalida=='Kelvin'):\n",
    "                return grados+273.15\n",
    "            if(tipoSalida=='Farenheit'):\n",
    "                return (grados-32)*5/9\n",
    "        \n",
    "    \n",
    "    def pruebaGrados(self,lis1):\n",
    "        ckf=['Farenheit','Celsius','Kelvin']\n",
    "        for c in ckf:\n",
    "            for b in ckf:\n",
    "                for a in lis1:\n",
    "                    Grados=conversionGrados(a,b,c)\n",
    "                    print(Grados,\" \",c)\n",
    "        \n",
    "    def factorial(self,num):\n",
    "        if num<0 or type(num)!=int:\n",
    "            print('Error')\n",
    "            return\n",
    "        elif num<=1:\n",
    "            return 1\n",
    "        else: \n",
    "            f=num*self.factorial(num-1)\n",
    "            return f"
   ]
  },
  {
   "cell_type": "code",
   "execution_count": 59,
   "metadata": {},
   "outputs": [],
   "source": [
    "a=FuncionesVarias([1,2,3,4,5,6,7,8,9,8,7,6,5,4,3,2,1,0])"
   ]
  },
  {
   "attachments": {},
   "cell_type": "markdown",
   "metadata": {},
   "source": [
    "8) Crear un archivo .py aparte y ubicar allí la clase generada en el punto anterior. Luego realizar la importación del módulo y probar alguna de sus funciones"
   ]
  },
  {
   "cell_type": "code",
   "execution_count": 73,
   "metadata": {},
   "outputs": [],
   "source": [
    "from funcionesVarias import * \n",
    "\n"
   ]
  },
  {
   "cell_type": "code",
   "execution_count": 74,
   "metadata": {},
   "outputs": [],
   "source": [
    "f=FuncionesVarias([1,3,5,7,9,11])"
   ]
  },
  {
   "cell_type": "code",
   "execution_count": 72,
   "metadata": {},
   "outputs": [
    {
     "data": {
      "text/plain": [
       "[1, 3, 5, 7, 11]"
      ]
     },
     "execution_count": 72,
     "metadata": {},
     "output_type": "execute_result"
    }
   ],
   "source": [
    "f.extraePrimos(f.lista)"
   ]
  }
 ],
 "metadata": {
  "interpreter": {
   "hash": "c85384e4cb51c8b72350f3a8712cc8351fdc3955e32a27f9b60c6242ab125f01"
  },
  "kernelspec": {
   "display_name": "Python 3 (ipykernel)",
   "language": "python",
   "name": "python3"
  },
  "language_info": {
   "codemirror_mode": {
    "name": "ipython",
    "version": 3
   },
   "file_extension": ".py",
   "mimetype": "text/x-python",
   "name": "python",
   "nbconvert_exporter": "python",
   "pygments_lexer": "ipython3",
   "version": "3.12.2"
  }
 },
 "nbformat": 4,
 "nbformat_minor": 4
}
