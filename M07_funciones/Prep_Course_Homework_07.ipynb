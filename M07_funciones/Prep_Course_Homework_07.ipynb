{
 "cells": [
  {
   "attachments": {},
   "cell_type": "markdown",
   "metadata": {},
   "source": [
    "## Funciones"
   ]
  },
  {
   "attachments": {},
   "cell_type": "markdown",
   "metadata": {},
   "source": [
    "1) Crear una función que reciba un número como parámetro y devuelva True si es primo y False si no lo es"
   ]
  },
  {
   "cell_type": "code",
   "execution_count": 1,
   "metadata": {},
   "outputs": [],
   "source": [
    "def vereficaPrimo(n):\n",
    "    primo = True\n",
    "    for i in range(2,n):\n",
    "        if n%i==0:\n",
    "            primo= False\n",
    "            break\n",
    "    return primo\n",
    "\n"
   ]
  },
  {
   "attachments": {},
   "cell_type": "markdown",
   "metadata": {},
   "source": [
    "2) Utilizando la función del punto 1, realizar otra función que reciba de parámetro una lista de números y devuelva sólo aquellos que son primos en otra lista"
   ]
  },
  {
   "cell_type": "code",
   "execution_count": 2,
   "metadata": {},
   "outputs": [],
   "source": [
    "def extraePrimos(lista):\n",
    "    listaPrimo=[]\n",
    "    for e in lista:\n",
    "        if vereficaPrimo(e):\n",
    "            listaPrimo.append(e)\n",
    "    return listaPrimo\n"
   ]
  },
  {
   "cell_type": "code",
   "execution_count": 4,
   "metadata": {},
   "outputs": [
    {
     "data": {
      "text/plain": [
       "[1, 2, 3, 5, 7, 11, 13, 17, 19]"
      ]
     },
     "execution_count": 4,
     "metadata": {},
     "output_type": "execute_result"
    }
   ],
   "source": [
    "lista1=[1,2,3,4,5,6,7,8,9,10,11,12,13,14,15,16,17,18,19,20]\n",
    "lista2=extraePrimos(lista1)\n",
    "lista2"
   ]
  },
  {
   "attachments": {},
   "cell_type": "markdown",
   "metadata": {},
   "source": [
    "3) Crear una función que al recibir una lista de números, devuelva el que más se repite y cuántas veces lo hace. Si hay más de un \"más repetido\", que devuelva cualquiera"
   ]
  },
  {
   "cell_type": "code",
   "execution_count": 19,
   "metadata": {},
   "outputs": [],
   "source": [
    "def repetido(lista):\n",
    "    indice=0\n",
    "    count1=0\n",
    "    count=0\n",
    "    elemento=0\n",
    "    for elem in lista:\n",
    "        for e in lista:\n",
    "            if elem==e:\n",
    "                count+=1\n",
    "        if count>count1:\n",
    "            count1=count\n",
    "            elemento=elem\n",
    "            indice=lista.index(elemento)\n",
    "        count=0\n",
    "    return elemento, indice, count1"
   ]
  },
  {
   "cell_type": "code",
   "execution_count": 21,
   "metadata": {},
   "outputs": [
    {
     "data": {
      "text/plain": [
       "(6, 1, 7)"
      ]
     },
     "execution_count": 21,
     "metadata": {},
     "output_type": "execute_result"
    }
   ],
   "source": [
    "lista3=[2,6,8,1,9,1,15,7,5,6,1,6,1,2,3,6,1,8,7,6,6,6,1]\n",
    "repetido(lista3)"
   ]
  },
  {
   "attachments": {},
   "cell_type": "markdown",
   "metadata": {},
   "source": [
    "4) Crear una función que convierta entre grados Celsius, Farenheit y Kelvin<br>\n",
    "Fórmula 1\t: (°C × 9/5) + 32 = °F<br>\n",
    "Fórmula 2\t: °C + 273.15 = °K<br>\n",
    "Debe recibir 3 parámetros: el valor, la medida de orígen y la medida de destino\n"
   ]
  },
  {
   "cell_type": "code",
   "execution_count": 43,
   "metadata": {},
   "outputs": [],
   "source": [
    "def conversionGrados(grados,tipoEntrada,tipoSalida):\n",
    "    if(tipoSalida==tipoEntrada):\n",
    "        return grados\n",
    "    if(tipoEntrada =='Farenheit'):\n",
    "        if(tipoSalida=='Celsius'):\n",
    "            return(grados*(9/5))+32\n",
    "        if(tipoSalida=='Kelvin'):\n",
    "           return grados+273.15\n",
    "    if(tipoEntrada == 'Kelvin'):\n",
    "        if(tipoSalida=='Celsius'):\n",
    "            return grados-273.15\n",
    "        if(tipoSalida=='Farenheit'):\n",
    "            return ((grados-273.15-32)*(5/9))\n",
    "    if(tipoEntrada=='Celsius'):\n",
    "        if(tipoSalida=='Kelvin'):\n",
    "            return grados+273.15\n",
    "        if(tipoSalida=='Farenheit'):\n",
    "            return (grados-32)*5/9"
   ]
  },
  {
   "attachments": {},
   "cell_type": "markdown",
   "metadata": {},
   "source": [
    "5) Iterando una lista con los tres valores posibles de temperatura que recibe la función del punto 5, hacer un print para cada combinación de los mismos:"
   ]
  },
  {
   "cell_type": "code",
   "execution_count": 46,
   "metadata": {},
   "outputs": [],
   "source": [
    "\n",
    "def pruebaGrados(lis1):\n",
    "    ckf=['Farenheit','Celsius','Kelvin']\n",
    "    for c in ckf:\n",
    "        for b in ckf:\n",
    "            for a in lis1:\n",
    "                Grados=conversionGrados(a,b,c)\n",
    "                print(Grados,\" \",c)\n"
   ]
  },
  {
   "cell_type": "code",
   "execution_count": 47,
   "metadata": {},
   "outputs": [
    {
     "name": "stdout",
     "output_type": "stream",
     "text": [
      "232   Farenheit\n",
      "100   Farenheit\n",
      "273.15   Farenheit\n",
      "111.11111111111111   Farenheit\n",
      "37.77777777777778   Farenheit\n",
      "133.97222222222223   Farenheit\n",
      "-40.63888888888888   Farenheit\n",
      "-113.97222222222221   Farenheit\n",
      "-17.77777777777778   Farenheit\n",
      "449.6   Celsius\n",
      "212.0   Celsius\n",
      "523.67   Celsius\n",
      "232   Celsius\n",
      "100   Celsius\n",
      "273.15   Celsius\n",
      "-41.14999999999998   Celsius\n",
      "-173.14999999999998   Celsius\n",
      "0.0   Celsius\n",
      "505.15   Kelvin\n",
      "373.15   Kelvin\n",
      "546.3   Kelvin\n",
      "505.15   Kelvin\n",
      "373.15   Kelvin\n",
      "546.3   Kelvin\n",
      "232   Kelvin\n",
      "100   Kelvin\n",
      "273.15   Kelvin\n"
     ]
    }
   ],
   "source": [
    "listaGrados=[232,100,273.15]\n",
    "pruebaGrados(listaGrados)"
   ]
  },
  {
   "attachments": {},
   "cell_type": "markdown",
   "metadata": {},
   "source": [
    "6) Armar una función que devuelva el factorial de un número. Tener en cuenta que el usuario puede equivocarse y enviar de parámetro un número no entero o negativo"
   ]
  },
  {
   "cell_type": "code",
   "execution_count": 54,
   "metadata": {},
   "outputs": [],
   "source": [
    "def factorial(num):\n",
    "    if num<0 or type(num)!=int:\n",
    "        print('Error')\n",
    "        return\n",
    "    elif num<=1:\n",
    "        return 1\n",
    "    else: \n",
    "        f=num*factorial(num-1)\n",
    "        return f"
   ]
  },
  {
   "cell_type": "code",
   "execution_count": 58,
   "metadata": {},
   "outputs": [
    {
     "data": {
      "text/plain": [
       "2"
      ]
     },
     "execution_count": 58,
     "metadata": {},
     "output_type": "execute_result"
    }
   ],
   "source": [
    "factorial(2)"
   ]
  }
 ],
 "metadata": {
  "interpreter": {
   "hash": "c85384e4cb51c8b72350f3a8712cc8351fdc3955e32a27f9b60c6242ab125f01"
  },
  "kernelspec": {
   "display_name": "Python 3 (ipykernel)",
   "language": "python",
   "name": "python3"
  },
  "language_info": {
   "codemirror_mode": {
    "name": "ipython",
    "version": 3
   },
   "file_extension": ".py",
   "mimetype": "text/x-python",
   "name": "python",
   "nbconvert_exporter": "python",
   "pygments_lexer": "ipython3",
   "version": "3.12.2"
  }
 },
 "nbformat": 4,
 "nbformat_minor": 4
}
